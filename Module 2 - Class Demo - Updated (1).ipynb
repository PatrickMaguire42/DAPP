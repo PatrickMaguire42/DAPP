{
 "cells": [
  {
   "cell_type": "markdown",
   "id": "38d51a88",
   "metadata": {},
   "source": [
    "### Libraries: Random Number Generator \n",
    "\n",
    "Libraries are a collection of functions that can only be accessed by first importing the library into your notebook. Python has a function that allows you to generate a random number - this function is stored in the library called \"Random\". It is good practice to import all the libraries you'll need at the beginning of your notebook.  "
   ]
  },
  {
   "cell_type": "code",
   "execution_count": null,
   "id": "0db23e80",
   "metadata": {},
   "outputs": [],
   "source": [
    "# import a library to use specific functions\n",
    "\n",
    "import random\n",
    "\n",
    "# now that the library is imported, you can call specific functions\n",
    "# below is the .random() function from the 'random' library\n",
    "\n",
    "random.random()"
   ]
  },
  {
   "cell_type": "code",
   "execution_count": 1,
   "id": "3444abc3",
   "metadata": {},
   "outputs": [
    {
     "data": {
      "text/plain": [
       "0.23526384332631034"
      ]
     },
     "execution_count": 1,
     "metadata": {},
     "output_type": "execute_result"
    }
   ],
   "source": [
    "# import a library and give it a nickname\n",
    "\n",
    "import random as rand\n",
    "\n",
    "# now you will use the nickname (not the full name) when you want to call a func\n",
    "\n",
    "rand.random()"
   ]
  },
  {
   "cell_type": "code",
   "execution_count": 2,
   "id": "ee982cac",
   "metadata": {},
   "outputs": [
    {
     "data": {
      "text/plain": [
       "1"
      ]
     },
     "execution_count": 2,
     "metadata": {},
     "output_type": "execute_result"
    }
   ],
   "source": [
    "# print a random integer\n",
    "# rand.randint(start #, end #); start and end are inclusive\n",
    "\n",
    "rand.randint(0, 10)"
   ]
  },
  {
   "cell_type": "code",
   "execution_count": 3,
   "id": "b5fb92f3",
   "metadata": {},
   "outputs": [
    {
     "name": "stdout",
     "output_type": "stream",
     "text": [
      "4\n",
      "1\n",
      "4\n",
      "3\n",
      "1\n"
     ]
    }
   ],
   "source": [
    "# print a series of random integers between 1 and 5\n",
    "\n",
    "print(rand.randint(1, 5))\n",
    "print(rand.randint(1, 5))\n",
    "print(rand.randint(1, 5))\n",
    "print(rand.randint(1, 5))\n",
    "print(rand.randint(1, 5))"
   ]
  },
  {
   "cell_type": "markdown",
   "id": "4a1f6221",
   "metadata": {},
   "source": [
    "### Built-in Functions: round (arg, [decimal places])\n",
    "\n",
    "Round a number to a whole number or to a specific number of decimal places"
   ]
  },
  {
   "cell_type": "code",
   "execution_count": 4,
   "id": "08d762cf",
   "metadata": {},
   "outputs": [
    {
     "data": {
      "text/plain": [
       "3"
      ]
     },
     "execution_count": 4,
     "metadata": {},
     "output_type": "execute_result"
    }
   ],
   "source": [
    "# round up to the nearest whole number\n",
    "\n",
    "round(3.142857)"
   ]
  },
  {
   "cell_type": "code",
   "execution_count": 5,
   "id": "4610ca24",
   "metadata": {},
   "outputs": [
    {
     "data": {
      "text/plain": [
       "3.0"
      ]
     },
     "execution_count": 5,
     "metadata": {},
     "output_type": "execute_result"
    }
   ],
   "source": [
    "# round a number to '0' decimal places \n",
    "# this is the default, will be the same as above\n",
    "\n",
    "round(3.142857, 0)"
   ]
  },
  {
   "cell_type": "code",
   "execution_count": 6,
   "id": "7e1112d7",
   "metadata": {},
   "outputs": [
    {
     "data": {
      "text/plain": [
       "3.1"
      ]
     },
     "execution_count": 6,
     "metadata": {},
     "output_type": "execute_result"
    }
   ],
   "source": [
    "# round a number to '1' decimal places \n",
    "\n",
    "round(3.142857, 1)"
   ]
  },
  {
   "cell_type": "code",
   "execution_count": 7,
   "id": "8f855392",
   "metadata": {},
   "outputs": [
    {
     "data": {
      "text/plain": [
       "3.14286"
      ]
     },
     "execution_count": 7,
     "metadata": {},
     "output_type": "execute_result"
    }
   ],
   "source": [
    "# round a number to '5' decimal places \n",
    "\n",
    "round(3.142857, 5)"
   ]
  },
  {
   "cell_type": "markdown",
   "id": "443bfa4f",
   "metadata": {},
   "source": [
    "### Built-in Functions: len (arg)\n",
    "\n",
    "Return the number of items in an object (ex. word, sentence, list, etc.)"
   ]
  },
  {
   "cell_type": "code",
   "execution_count": 8,
   "id": "91f8cfe9",
   "metadata": {},
   "outputs": [
    {
     "data": {
      "text/plain": [
       "12"
      ]
     },
     "execution_count": 8,
     "metadata": {},
     "output_type": "execute_result"
    }
   ],
   "source": [
    "# when the object is a string len() returns the number of characters\n",
    "\n",
    "len(\"hello, world\")"
   ]
  },
  {
   "cell_type": "code",
   "execution_count": 9,
   "id": "7ae2882d",
   "metadata": {},
   "outputs": [
    {
     "data": {
      "text/plain": [
       "13"
      ]
     },
     "execution_count": 9,
     "metadata": {},
     "output_type": "execute_result"
    }
   ],
   "source": [
    "# the len function also includes white spaces as characters\n",
    "\n",
    "len(\"      t      \")"
   ]
  },
  {
   "cell_type": "code",
   "execution_count": 10,
   "id": "2252a235",
   "metadata": {},
   "outputs": [
    {
     "ename": "TypeError",
     "evalue": "object of type 'float' has no len()",
     "output_type": "error",
     "traceback": [
      "\u001b[1;31m---------------------------------------------------------------------------\u001b[0m",
      "\u001b[1;31mTypeError\u001b[0m                                 Traceback (most recent call last)",
      "\u001b[1;32mC:\\Users\\RVHU32~1\\AppData\\Local\\Temp/ipykernel_12992/2970634909.py\u001b[0m in \u001b[0;36m<module>\u001b[1;34m\u001b[0m\n\u001b[0;32m      1\u001b[0m \u001b[1;31m# what is the length of this number?\u001b[0m\u001b[1;33m\u001b[0m\u001b[1;33m\u001b[0m\u001b[0m\n\u001b[0;32m      2\u001b[0m \u001b[1;33m\u001b[0m\u001b[0m\n\u001b[1;32m----> 3\u001b[1;33m \u001b[0mlen\u001b[0m\u001b[1;33m(\u001b[0m\u001b[1;36m123.456789\u001b[0m\u001b[1;33m)\u001b[0m\u001b[1;33m\u001b[0m\u001b[1;33m\u001b[0m\u001b[0m\n\u001b[0m",
      "\u001b[1;31mTypeError\u001b[0m: object of type 'float' has no len()"
     ]
    }
   ],
   "source": [
    "# what is the length of this number?\n",
    "\n",
    "len(123.456789)"
   ]
  },
  {
   "cell_type": "code",
   "execution_count": 11,
   "id": "033d580c",
   "metadata": {},
   "outputs": [
    {
     "data": {
      "text/plain": [
       "0"
      ]
     },
     "execution_count": 11,
     "metadata": {},
     "output_type": "execute_result"
    }
   ],
   "source": [
    "len(\"\")"
   ]
  },
  {
   "cell_type": "markdown",
   "id": "85b24ddc",
   "metadata": {},
   "source": [
    "### Exercise 1: \n",
    "\n",
    "Generate a random number between two values. The two values should be provided by a user. "
   ]
  },
  {
   "cell_type": "code",
   "execution_count": 15,
   "id": "df21d2ef",
   "metadata": {},
   "outputs": [
    {
     "name": "stdout",
     "output_type": "stream",
     "text": [
      "Please Enter an Integer: 6\n",
      "Please Enter an Integer: shg\n",
      "Error: Invalid Input\n",
      "Please Enter an Integer: aef\n",
      "Error: Invalid Input\n",
      "Please Enter an Integer: u\n",
      "Error: Invalid Input\n",
      "Please Enter an Integer: 3.5463\n",
      "Error: Invalid Input\n",
      "Please Enter an Integer: 42\n",
      "The random number from 6 to 42 is 21\n"
     ]
    }
   ],
   "source": [
    "numbers = []\n",
    "while len(numbers) < 2:\n",
    "    user = input(\"Please Enter an Integer: \")\n",
    "    try:\n",
    "        user = int(user)\n",
    "        numbers.append(user)\n",
    "    except:\n",
    "        print(\"Error: Invalid Input\")\n",
    "\n",
    "numbers.sort()        \n",
    "\n",
    "randnum = rand.randint(numbers[0],numbers[1])\n",
    "print(f\"The random number from {numbers[0]} to {numbers[1]} is {randnum}\")"
   ]
  },
  {
   "cell_type": "markdown",
   "id": "a8efa163",
   "metadata": {},
   "source": [
    "### String Methods\n",
    "\n",
    "There are many functions that are specific for use with strings. "
   ]
  },
  {
   "cell_type": "code",
   "execution_count": 16,
   "id": "2a00d436",
   "metadata": {},
   "outputs": [],
   "source": [
    "message = \"  learn to code in PYTHON  \""
   ]
  },
  {
   "cell_type": "code",
   "execution_count": 17,
   "id": "0fa72b34",
   "metadata": {},
   "outputs": [
    {
     "data": {
      "text/plain": [
       "'n'"
      ]
     },
     "execution_count": 17,
     "metadata": {},
     "output_type": "execute_result"
    }
   ],
   "source": [
    "message[6]"
   ]
  },
  {
   "cell_type": "code",
   "execution_count": null,
   "id": "79507d25",
   "metadata": {},
   "outputs": [],
   "source": [
    "# length of string\n",
    "\n",
    "len(message)"
   ]
  },
  {
   "cell_type": "code",
   "execution_count": null,
   "id": "eb866261",
   "metadata": {},
   "outputs": [],
   "source": [
    "# change the case of the string to 'title case'\n",
    "\n",
    "message.title()"
   ]
  },
  {
   "cell_type": "code",
   "execution_count": null,
   "id": "18c3cab3",
   "metadata": {},
   "outputs": [],
   "source": [
    "# change the case of the string to 'upper case'\n",
    "\n",
    "message.upper()"
   ]
  },
  {
   "cell_type": "code",
   "execution_count": null,
   "id": "a1dd0969",
   "metadata": {},
   "outputs": [],
   "source": [
    "# change the case of the string to 'lower case'\n",
    "\n",
    "message.lower()"
   ]
  },
  {
   "cell_type": "code",
   "execution_count": null,
   "id": "e2908881",
   "metadata": {},
   "outputs": [],
   "source": [
    "# strip blank spaces from entire string\n",
    "\n",
    "print(\">>>\" + message + \"<<<\")\n",
    "\n",
    "message.strip()"
   ]
  },
  {
   "cell_type": "code",
   "execution_count": null,
   "id": "492c000a",
   "metadata": {},
   "outputs": [],
   "source": [
    "# length of string without blank spaces \n",
    "\n",
    "len(message.strip())"
   ]
  },
  {
   "cell_type": "code",
   "execution_count": null,
   "id": "559833b3",
   "metadata": {},
   "outputs": [],
   "source": [
    "# strip blank spaces from left side of string\n",
    "\n",
    "print(\">>>\" + message + \"<<<\")\n",
    "\n",
    "message.lstrip()"
   ]
  },
  {
   "cell_type": "code",
   "execution_count": null,
   "id": "5e0997ee",
   "metadata": {},
   "outputs": [],
   "source": [
    "# strip blank spaces from right side of string\n",
    "\n",
    "print(\">>>\" + message + \"<<<\")\n",
    "\n",
    "message.rstrip()"
   ]
  },
  {
   "cell_type": "code",
   "execution_count": null,
   "id": "4995f3fd",
   "metadata": {},
   "outputs": [],
   "source": [
    "# return the number of times a value appears in a string \n",
    "# case-sensitive \n",
    "\n",
    "print(\">>>\" + message + \"<<<\")\n",
    "\n",
    "message.count(\"to\")"
   ]
  },
  {
   "cell_type": "code",
   "execution_count": null,
   "id": "3c80464d",
   "metadata": {},
   "outputs": [],
   "source": [
    "message.count(\"o\")"
   ]
  },
  {
   "cell_type": "code",
   "execution_count": null,
   "id": "28df8477",
   "metadata": {},
   "outputs": [],
   "source": [
    "# replace a specific value with another specific value\n",
    "\n",
    "print(\">>>\" + message + \"<<<\")\n",
    "\n",
    "# replace blank spaces with *\n",
    "\n",
    "message.replace(\" \", \"*\")"
   ]
  },
  {
   "cell_type": "code",
   "execution_count": null,
   "id": "8858ab16",
   "metadata": {
    "scrolled": true
   },
   "outputs": [],
   "source": [
    "# changes are not permanent \n",
    "\n",
    "print(\">>>\" + message + \"<<<\")"
   ]
  },
  {
   "cell_type": "code",
   "execution_count": null,
   "id": "d3a9b2f9",
   "metadata": {},
   "outputs": [],
   "source": [
    "print(message)"
   ]
  },
  {
   "cell_type": "code",
   "execution_count": null,
   "id": "f67b9f30",
   "metadata": {},
   "outputs": [],
   "source": [
    "# indexing strings\n",
    "# accessing characters by index number \n",
    "\n",
    "# what character is in the 5th index poisiton?\n",
    "\n",
    "message[5]"
   ]
  },
  {
   "cell_type": "code",
   "execution_count": null,
   "id": "206c43f7",
   "metadata": {},
   "outputs": [],
   "source": [
    "# indexing strings from back to front using negative numbers\n",
    "\n",
    "message[-5]"
   ]
  },
  {
   "cell_type": "code",
   "execution_count": null,
   "id": "a894ac0a",
   "metadata": {},
   "outputs": [],
   "source": [
    "message[55]"
   ]
  },
  {
   "cell_type": "markdown",
   "id": "6df3eaaf",
   "metadata": {},
   "source": [
    "### Exercise 2:\n",
    "\n",
    "Write a program to strip 4 lines of text of all white spaces. Return all lines of text in 'title case'. Replace all periods with exclamation points. \n",
    "\n",
    "    line 1 = \"  beautiful is better than ugly. \"\n",
    "    line 2 = \"   explicit is better than implicit. \"\n",
    "    line 3 = \"simple is better than complex.       \"\n",
    "    line 4 = \" complex is better than complicated.\"\n",
    "\n",
    "Result should be:\n",
    "\n",
    "    Beautiful Is Better Than Ugly!\n",
    "    Explicit Is Better Than Implicit!\n",
    "    Simple Is Better Than Complex!\n",
    "    Complex Is Better Than Complicated!"
   ]
  },
  {
   "cell_type": "code",
   "execution_count": 58,
   "id": "42ec1758",
   "metadata": {},
   "outputs": [],
   "source": [
    "line1 = \"  beautiful is better than ugly. \"\n",
    "line2 = \"   explicit is better than implicit. \"\n",
    "line3 = \"simple is better than complex.       \"\n",
    "line4 = \" complex is better than complicated.\""
   ]
  },
  {
   "cell_type": "code",
   "execution_count": 46,
   "id": "31669ae7",
   "metadata": {},
   "outputs": [],
   "source": [
    "# line1\n",
    "line1 = line1.title()\n",
    "line1 = line1.replace(\".\",\"!\")\n",
    "line1 = line1.strip()\n",
    "# line2\n",
    "line2 = line2.title()\n",
    "line2 = line2.replace(\".\",\"!\")\n",
    "line2 = line2.strip()\n",
    "# line3\n",
    "line3 = line3.title()\n",
    "line3 = line3.replace(\".\",\"!\")\n",
    "line3 = line3.strip()\n",
    "# line4\n",
    "line4 = line4.title().replace(\".\",\"!\").strip()\n",
    "#line4 = line4.replace(\".\",\"!\")\n",
    "#line4 = line4.strip()"
   ]
  },
  {
   "cell_type": "code",
   "execution_count": 59,
   "id": "f479eb22",
   "metadata": {},
   "outputs": [],
   "source": [
    "def stripTitleExclaim(line):\n",
    "    line = line.strip()\n",
    "    line = line.title()\n",
    "    line = line.replace(\".\",\"!\")\n",
    "    return line"
   ]
  },
  {
   "cell_type": "code",
   "execution_count": 60,
   "id": "868ebc10",
   "metadata": {},
   "outputs": [],
   "source": [
    "line1 = stripTitleExclaim(line1)\n",
    "line2 = stripTitleExclaim(line2)\n",
    "line3 = stripTitleExclaim(line3)\n",
    "line4 = stripTitleExclaim(line4)"
   ]
  },
  {
   "cell_type": "code",
   "execution_count": 61,
   "id": "11f4331d",
   "metadata": {},
   "outputs": [
    {
     "name": "stdout",
     "output_type": "stream",
     "text": [
      "Beautiful Is Better Than Ugly!\n",
      "Explicit Is Better Than Implicit!\n",
      "Simple Is Better Than Complex!\n",
      "Complex Is Better Than Complicated!\n"
     ]
    }
   ],
   "source": [
    "## print the results of these changes\n",
    "print(line1)\n",
    "print(line2)\n",
    "print(line3)\n",
    "print(line4)"
   ]
  },
  {
   "cell_type": "code",
   "execution_count": null,
   "id": "c0d33d39",
   "metadata": {},
   "outputs": [],
   "source": []
  },
  {
   "cell_type": "code",
   "execution_count": null,
   "id": "1256a3d4",
   "metadata": {},
   "outputs": [],
   "source": []
  },
  {
   "cell_type": "code",
   "execution_count": null,
   "id": "d33dd92b",
   "metadata": {},
   "outputs": [],
   "source": []
  },
  {
   "cell_type": "markdown",
   "id": "4208b499",
   "metadata": {},
   "source": [
    "### Customized Functions\n",
    "\n",
    "Define your own function to perform specific tasks"
   ]
  },
  {
   "cell_type": "markdown",
   "id": "f41c364e",
   "metadata": {},
   "source": [
    "print(\"this\")\n",
    "type(123.4)\n",
    "len(\"this is a string\")\n",
    "round(78.6)\n",
    "input(\"add something: \")"
   ]
  },
  {
   "cell_type": "code",
   "execution_count": null,
   "id": "f34e4c39",
   "metadata": {},
   "outputs": [],
   "source": [
    "# def is used to define a new function and store it to notebook memory\n",
    "\n",
    "# create a function to add to given numbers\n",
    "\n",
    "def add(x, y): \n",
    "    return x + y\n",
    "\n",
    "# replace with specific numbers\n",
    "\n",
    "add(4, 10)"
   ]
  },
  {
   "cell_type": "code",
   "execution_count": null,
   "id": "a8ac8cdb",
   "metadata": {},
   "outputs": [],
   "source": [
    "def my_function():\n",
    "    x = rand.randint(2, 5)\n",
    "    print(x)\n",
    "    print(\"#\" * x)"
   ]
  },
  {
   "cell_type": "code",
   "execution_count": null,
   "id": "7bc34907",
   "metadata": {},
   "outputs": [],
   "source": [
    "# call the function three separate times\n",
    "    \n",
    "my_function()\n",
    "my_function()\n",
    "my_function()"
   ]
  },
  {
   "cell_type": "code",
   "execution_count": null,
   "id": "fd91a681",
   "metadata": {},
   "outputs": [],
   "source": [
    "def my_function2(start_no, end_no):\n",
    "    x = rand.randint(start_no, end_no)\n",
    "    print(x)\n",
    "    print(\"@\" * x)\n",
    "    \n",
    "# call function three separate times with different input \n",
    "    \n",
    "my_function2(1, 5)\n",
    "my_function2(1, 10)\n",
    "my_function2(10, 14)"
   ]
  },
  {
   "cell_type": "code",
   "execution_count": null,
   "id": "9f649eb0",
   "metadata": {},
   "outputs": [],
   "source": [
    "# returning specific values with a function \n",
    "\n",
    "def add(a, b):\n",
    "    print(f\"ADDING {a} + {b}\")\n",
    "    return a + b\n",
    "\n",
    "def subtract(a, b):\n",
    "    print(f\"SUBTRACTING {a} - {b}\")\n",
    "    return a - b\n",
    "\n",
    "def multiply(a, b):\n",
    "    print(f\"MULTIPLYING {a} * {b}\")\n",
    "    return a * b\n",
    "\n",
    "def divide(a, b):\n",
    "    print(f\"DIVIDING {a} / {b}\")\n",
    "    return a / b"
   ]
  },
  {
   "cell_type": "code",
   "execution_count": null,
   "id": "2db40388",
   "metadata": {},
   "outputs": [],
   "source": [
    "# using your functions to do some math\n",
    "\n",
    "print(\"Let's do some math with just functions!\")\n",
    "\n",
    "n1 = int(input(\"Enter an integer: \"))\n",
    "n2 = float(input(\"Enter a float: \"))\n",
    "\n",
    "print(f\"The choosen numbers are: {n1} and {n2}. The results of our calculations are: \")\n",
    "\n",
    "print(\"-\" * 10)\n",
    "\n",
    "addition = add(n1, n2)\n",
    "subtraction = subtract(n1, n2)\n",
    "multiplication = multiply(n1, n2)\n",
    "division = divide(n1, n2)\n",
    "\n",
    "print(\"-\" * 10)\n",
    "\n",
    "print(f\"Addition:\\t{addition}\\nSubtraction:\\t{subtraction}\\nMultiplication:\\t{multiplication}\\nDivision:\\t{division}\")"
   ]
  },
  {
   "cell_type": "code",
   "execution_count": null,
   "id": "b62b3395",
   "metadata": {},
   "outputs": [],
   "source": [
    "# defining functions with constants\n",
    "\n",
    "def add(a, b, c):\n",
    "    return a + b + c\n",
    "\n",
    "add(1, 6)"
   ]
  },
  {
   "cell_type": "code",
   "execution_count": null,
   "id": "bb42189f",
   "metadata": {},
   "outputs": [],
   "source": [
    "# defining a function with a constant \n",
    "\n",
    "def add(a, b, c = 10):\n",
    "    return a + b + c\n",
    "\n",
    "add(1, 6)"
   ]
  },
  {
   "cell_type": "code",
   "execution_count": null,
   "id": "42a93971",
   "metadata": {},
   "outputs": [],
   "source": [
    "# non-numeric functions \n",
    "\n",
    "def match(person1, person2):\n",
    "    print(person1 + \" likes \" + person2)\n",
    "\n",
    "name1 = \"Miss Piggy\"\n",
    "name2 = \"Kermit\"\n",
    "\n",
    "match(name1, name2)"
   ]
  },
  {
   "cell_type": "code",
   "execution_count": null,
   "id": "9c749ef0",
   "metadata": {},
   "outputs": [],
   "source": [
    "# change the order of the arguments\n",
    "\n",
    "match(name2, name1)"
   ]
  },
  {
   "cell_type": "code",
   "execution_count": null,
   "id": "62456aa8",
   "metadata": {},
   "outputs": [],
   "source": [
    "# more function examples\n",
    "\n",
    "def double_func(x):\n",
    "    x *= 2 # multiply value of x by 2\n",
    "    return x\n",
    "\n",
    "\n",
    "# use the function to define a variable called 'return_val'\n",
    "\n",
    "x = 5\n",
    "\n",
    "return_val = double_func(x)\n",
    "\n",
    "print(f\"return_val = {return_val}\")\n",
    "print(f\"x = {x}\")"
   ]
  },
  {
   "cell_type": "code",
   "execution_count": null,
   "id": "cb8a2968",
   "metadata": {},
   "outputs": [],
   "source": [
    "# x can also be a string\n",
    "\n",
    "x = \"what?\"\n",
    "\n",
    "return_val = double_func(x)\n",
    "\n",
    "print(f\"return_val = {return_val}\")\n",
    "print(f\"x = {x}\")"
   ]
  },
  {
   "cell_type": "markdown",
   "id": "cb8519e8",
   "metadata": {},
   "source": [
    "### Exercise 3:\n",
    "\n",
    "Write a function called \"compute\" to calculate the area and perimeter of a rectangle. The length and width values should be user input. Your output should be something like this:\n",
    "\n",
    "    Please enter length: 25\n",
    "    Please enter width: 10\n",
    "\n",
    "    Area is 250\n",
    "    Perimeter is 70\n",
    "\n",
    "<b>If you aren't sure the equation for area and perimeter, you will have to search that first before creating your function!</b>"
   ]
  },
  {
   "cell_type": "code",
   "execution_count": 66,
   "id": "ee6f954e",
   "metadata": {},
   "outputs": [
    {
     "name": "stdout",
     "output_type": "stream",
     "text": [
      "Please Enter length: 12\n",
      "Please Enter width: 5\n",
      "Area is 60\n",
      "Perimeter is 34\n"
     ]
    }
   ],
   "source": [
    "def compute(length, width):\n",
    "    results = [ length * width,\n",
    "        2 * length + 2 * width\n",
    "    ]\n",
    "    return results\n",
    "\n",
    "numbers = []\n",
    "while len(numbers) < 2:\n",
    "    if len(numbers) == 0:\n",
    "        user = input(\"Please Enter length: \")\n",
    "    else:\n",
    "        user = input(\"Please Enter width: \")\n",
    "    try:\n",
    "        user = int(user) # Currently only accepts integer values\n",
    "        numbers.append(user)\n",
    "    except:\n",
    "        print(\"Error: Invalid Input\")\n",
    "        \n",
    "results = compute(numbers[0], numbers[1])\n",
    "\n",
    "print(f\"Area is {results[0]}\")\n",
    "print(f\"Perimeter is {results[1]}\")"
   ]
  },
  {
   "cell_type": "code",
   "execution_count": null,
   "id": "706f97c5",
   "metadata": {},
   "outputs": [],
   "source": []
  }
 ],
 "metadata": {
  "kernelspec": {
   "display_name": "Python 3 (ipykernel)",
   "language": "python",
   "name": "python3"
  },
  "language_info": {
   "codemirror_mode": {
    "name": "ipython",
    "version": 3
   },
   "file_extension": ".py",
   "mimetype": "text/x-python",
   "name": "python",
   "nbconvert_exporter": "python",
   "pygments_lexer": "ipython3",
   "version": "3.9.7"
  }
 },
 "nbformat": 4,
 "nbformat_minor": 5
}
